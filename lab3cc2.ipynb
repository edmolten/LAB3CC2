{
 "cells": [
  {
   "cell_type": "markdown",
   "metadata": {},
   "source": [
    "<h1 align=\"center\"> Computación Cientifica - Laboratorio 3: Simulando Númericamente Sistemas Dinámicos </h1>\n",
    "<br>\n",
    "<br>\n",
    "** Autores **:\n",
    "+ Yerson Escobar - 201273084-8 \n",
    "+ Eduardo Ramírez - 201103031-1\n",
    "\n",
    "\n",
    "## Introducción\n",
    "\n",
    "## Desarrollo\n",
    "\n",
    "### Simulando sistemas caóticos"
   ]
  },
  {
   "cell_type": "markdown",
   "metadata": {},
   "source": [
    "### Módulos y funciones necesarias"
   ]
  },
  {
   "cell_type": "code",
   "execution_count": 7,
   "metadata": {
    "collapsed": true
   },
   "outputs": [],
   "source": [
    "import numpy as np\n",
    "from scipy import integrate\n",
    "from matplotlib import pyplot as plt\n",
    "from mpl_toolkits.mplot3d import Axes3D\n",
    "from matplotlib.colors import cnames\n",
    "from matplotlib import animation"
   ]
  },
  {
   "cell_type": "markdown",
   "metadata": {},
   "source": [
    "### Función para visualizar resultados"
   ]
  },
  {
   "cell_type": "code",
   "execution_count": 8,
   "metadata": {
    "collapsed": true
   },
   "outputs": [],
   "source": [
    "\"\"\"\n",
    "-> x_t\n",
    "   arreglo con las posiciones (x,y,z) de las trayectorias. Este puede ser\n",
    "   de dos dimensiones (len(t), 3) para una sola trayectoria, o puede ser \n",
    "   de tres dimensiones (len(t), 3, N_trajectories) para mas de una trayectoria\n",
    "-> N_trajectories\n",
    "   numero de trayectorias a visualizar\n",
    "-> xlim,ylim,zlim\n",
    "   limites en los ejes x,y,z de la animacion\n",
    "-> rotate\n",
    "   rotar mientras anima para mejores perspectivas\n",
    "\"\"\"\n",
    "def animate_lorenz(x_t, N_trajectories, xlim=(-20,70), ylim=(-35,35), zlim=(-35,35), rotate=False):\n",
    "    #setting it to correct format\n",
    "    if x_t.ndim==2:\n",
    "        x_t = np.array([x_t])\n",
    "    elif x_t.ndim==3: \n",
    "        x_t = np.rot90(x_t).T\n",
    "    else:\n",
    "        return -1\n",
    "    #setting the number of frames\n",
    "    frames = max(x_t.shape)\n",
    "    frames /= 2\n",
    "    #set up figure & 3D axis for animation\n",
    "    fig = plt.figure()\n",
    "    ax = fig.add_axes([0, 0, 1, 1], projection='3d')\n",
    "    #ax.axis('off')\n",
    "\n",
    "    #choose a different color for each trajectory\n",
    "    colors = plt.cm.jet(np.linspace(0, 1, N_trajectories))\n",
    "\n",
    "    #set up lines and points\n",
    "    lines = sum([ax.plot([], [], [], '-', c=c)\n",
    "                 for c in colors], [])\n",
    "    pts = sum([ax.plot([], [], [], 'o', c=c)\n",
    "               for c in colors], [])\n",
    "\n",
    "    #prepare the axes limits\n",
    "    ax.set_xlim(xlim)\n",
    "    ax.set_ylim(ylim)\n",
    "    ax.set_zlim(zlim)\n",
    "\n",
    "    #set point-of-view: specified by (altitude degrees, azimuth degrees)\n",
    "    ax.view_init(30, 0)\n",
    "\n",
    "    #initialization function: plot the background of each frame\n",
    "    def init():\n",
    "        for line, pt in zip(lines, pts):\n",
    "            line.set_data([], [])\n",
    "            line.set_3d_properties([])\n",
    "\n",
    "            pt.set_data([], [])\n",
    "            pt.set_3d_properties([])\n",
    "        return lines + pts\n",
    "\n",
    "    #animation function.  This will be called sequentially with the frame number\n",
    "    def animate(i):\n",
    "        # we'll step two time-steps per frame.  This leads to nice results.\n",
    "        i = (2 * i) % x_t.shape[1]\n",
    "\n",
    "        for line, pt, xi in zip(lines, pts, x_t):\n",
    "            x, y, z = xi[:i].T\n",
    "            line.set_data(x, y)\n",
    "            line.set_3d_properties(z)\n",
    "\n",
    "            pt.set_data(x[-1:], y[-1:])\n",
    "            pt.set_3d_properties(z[-1:])\n",
    "\n",
    "        if rotate: ax.view_init(30, 0.3 * i)\n",
    "        fig.canvas.draw()\n",
    "        return lines + pts\n",
    "\n",
    "    #instantiate the animator.\n",
    "    anim = animation.FuncAnimation(fig, animate, init_func=init,\n",
    "                                   frames=frames, interval=30, blit=True, repeat=False)\n",
    "    #show it\n",
    "    ax.set_title('Lorenz Simulation')\n",
    "    ax.set_xlabel('x(t)')\n",
    "    ax.set_ylabel('y(t)')\n",
    "    ax.set_zlabel('z(t)')\n",
    "    plt.show()"
   ]
  },
  {
   "cell_type": "markdown",
   "metadata": {},
   "source": [
    "1.-"
   ]
  },
  {
   "cell_type": "code",
   "execution_count": 9,
   "metadata": {
    "collapsed": true
   },
   "outputs": [],
   "source": [
    "def euler_ode(func,y0,t,h):\n",
    "    t_size = t.size\n",
    "    solutions = np.zeros((t.size,y0.size))\n",
    "    solutions[0] = y0 \n",
    "    for i in range(1, t_size):\n",
    "        solutions[i] = solutions[i-1]+h*func(t[i-1],solutions[i-1])\n",
    "    return solutions\n",
    "\n",
    "def midpoint_ode(func,y0,t,h):\n",
    "    t_size = t.size\n",
    "    solutions = np.zeros((t.size,y0.size))\n",
    "    solutions[0, :] = y0 \n",
    "    for i in range(1, t_size):\n",
    "        current_t = t[i-1]\n",
    "        y = solutions[i-1]\n",
    "        k1 = y + h/2.0*func(current_t,y)\n",
    "        solutions[i] = y + h*func(current_t + h/2.0,k1)\n",
    "    return solutions\n",
    "\n",
    "def RK4_ode(func,y0,t,h):\n",
    "    t_size = t.size\n",
    "    solutions = np.zeros((t.size,y0.size))\n",
    "    solutions[0, :] = y0\n",
    "    for i in range(1, t_size):\n",
    "        current_t = t[i-1]\n",
    "        y = solutions[i-1]\n",
    "        k1=func(current_t,y)\n",
    "        k2=func(current_t+h/2.0,y+(h/2.0)*k1)        \n",
    "        k3=func(current_t+h/2.0,y+(h/2.0)*k2)\n",
    "        k4=func(current_t+h,y+h*k3)\n",
    "        solutions[i] = y+(h/6.0)*(k1+2*k2+2*k3+k4)\n",
    "    return solutions"
   ]
  },
  {
   "cell_type": "markdown",
   "metadata": {},
   "source": [
    "2.- Se analizaran los valores de $h$ con que el sistema podrá ser solucionado "
   ]
  },
  {
   "cell_type": "markdown",
   "metadata": {},
   "source": [
    "$$\n",
    "\\vec{F}(\\vec{x}) = \n",
    "\\left( \\begin{array}{c}\n",
    "\\sigma(y-x) \\\\\n",
    "x(\\rho-z)-y \\\\\n",
    "xy - \\beta z \\end{array} \\right)\n",
    "\\Longrightarrow\n",
    "\\partial\\vec{F}(\\vec{x}) =\n",
    "\\left( \\begin{array}{ccc}\n",
    "-\\sigma & \\sigma & 0\\\\\n",
    "\\rho-z & -1 & -x \\\\\n",
    "y & x & -\\beta\\end{array} \\right)\n",
    "$$\n",
    "\n",
    "Si los parametros son como se indica en el enunciado y $\\vec{x} = (0,0,0)$ entonces\n",
    "\n",
    "$$\n",
    "\\left|\\partial\\vec{F}(\\vec{x}) - \\lambda I \\right| =-\\frac{1}{3} (3 \\lambda +8) \\left(\\lambda ^2+11 \\lambda -270\\right)\n",
    "$$\n",
    "\n",
    "Encontrando las raices son\n",
    "$$\n",
    "\\lambda_1 = -2,67\n",
    "$$\n",
    "$$\n",
    "\\lambda_2 = -22.82\n",
    "$$\n",
    "$$\n",
    "\\lambda_3 = 11.82\n",
    "$$\n",
    "\n",
    "Finalmente $h$ debe cumplir\n",
    "\n",
    "$$\n",
    "0 < h < 0.749\n",
    "$$\n",
    "$$\n",
    "0 < h < 0.0876\n",
    "$$\n",
    "$$\n",
    "0 < h < -0.169 ??????????????\n",
    "$$\n",
    "Entonces $h = 0.08876$\n"
   ]
  },
  {
   "cell_type": "code",
   "execution_count": 22,
   "metadata": {
    "collapsed": false,
    "scrolled": false
   },
   "outputs": [],
   "source": [
    "\n",
    "def F(t,y):\n",
    "    _y1 = y[0]\n",
    "    y1 = _y1**2\n",
    "    return np.array([t*_y1+t**3])\n",
    "\n",
    "def LorentzAtractor(t, xvect):\n",
    "    _x = xvect[0]\n",
    "    _y = xvect[1]\n",
    "    _z = xvect[2]\n",
    "    next_x = sigma*(_y-_x)\n",
    "    next_y = _x*(rho-_z)-_y\n",
    "    next_z = _x*_y - beta*_z\n",
    "    return np.array([next_x,next_y,next_z])\n",
    "    \n",
    "sigma = 10\n",
    "rho = 28\n",
    "beta = 8/3\n",
    "xvect0 = np.array([1.0, 1.0, 1.0])\n",
    "h = 0.00876 # no funciono con el que se calculó, este al ojo funciona perfect\n",
    "t = np.arange(0,100,h)"
   ]
  },
  {
   "cell_type": "code",
   "execution_count": 23,
   "metadata": {
    "collapsed": true
   },
   "outputs": [],
   "source": [
    "x_euler = euler_ode(LorentzAtractor,xvect0,t,h) \n",
    "animate_lorenz(x_euler,1)"
   ]
  },
  {
   "cell_type": "code",
   "execution_count": 24,
   "metadata": {
    "collapsed": true
   },
   "outputs": [],
   "source": [
    "x_midpoint = midpoint_ode(LorentzAtractor,xvect0,t,h) \n",
    "animate_lorenz(x_midpoint,1)"
   ]
  },
  {
   "cell_type": "code",
   "execution_count": null,
   "metadata": {
    "collapsed": true
   },
   "outputs": [],
   "source": [
    "x_RK4 = RK4_ode(LorentzAtractor,xvect0,t,h) \n",
    "animate_lorenz(x_RK4,1)"
   ]
  },
  {
   "cell_type": "code",
   "execution_count": null,
   "metadata": {
    "collapsed": true
   },
   "outputs": [],
   "source": []
  },
  {
   "cell_type": "code",
   "execution_count": null,
   "metadata": {
    "collapsed": true
   },
   "outputs": [],
   "source": []
  },
  {
   "cell_type": "code",
   "execution_count": null,
   "metadata": {
    "collapsed": true
   },
   "outputs": [],
   "source": []
  },
  {
   "cell_type": "code",
   "execution_count": null,
   "metadata": {
    "collapsed": true
   },
   "outputs": [],
   "source": []
  },
  {
   "cell_type": "code",
   "execution_count": null,
   "metadata": {
    "collapsed": true
   },
   "outputs": [],
   "source": []
  },
  {
   "cell_type": "code",
   "execution_count": null,
   "metadata": {
    "collapsed": true
   },
   "outputs": [],
   "source": []
  },
  {
   "cell_type": "code",
   "execution_count": null,
   "metadata": {
    "collapsed": true
   },
   "outputs": [],
   "source": []
  },
  {
   "cell_type": "code",
   "execution_count": null,
   "metadata": {
    "collapsed": true
   },
   "outputs": [],
   "source": []
  },
  {
   "cell_type": "code",
   "execution_count": null,
   "metadata": {
    "collapsed": true
   },
   "outputs": [],
   "source": []
  },
  {
   "cell_type": "code",
   "execution_count": null,
   "metadata": {
    "collapsed": true
   },
   "outputs": [],
   "source": []
  },
  {
   "cell_type": "code",
   "execution_count": null,
   "metadata": {
    "collapsed": true
   },
   "outputs": [],
   "source": []
  }
 ],
 "metadata": {
  "kernelspec": {
   "display_name": "Python 2",
   "language": "python",
   "name": "python2"
  },
  "language_info": {
   "codemirror_mode": {
    "name": "ipython",
    "version": 2
   },
   "file_extension": ".py",
   "mimetype": "text/x-python",
   "name": "python",
   "nbconvert_exporter": "python",
   "pygments_lexer": "ipython2",
   "version": "2.7.10"
  }
 },
 "nbformat": 4,
 "nbformat_minor": 0
}

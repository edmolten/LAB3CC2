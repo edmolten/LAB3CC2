{
 "cells": [
  {
   "cell_type": "markdown",
   "metadata": {},
   "source": [
    "<h1 align=\"center\"> Computación Cientifica - Laboratorio 3: Simulando Númericamente Sistemas Dinámicos </h1>\n",
    "<br>\n",
    "<br>\n",
    "** Autores **:\n",
    "+ Yerson Escobar - 201273084-8 \n",
    "+ Eduardo Ramírez - 201103031-1\n",
    "\n",
    "\n",
    "## Introducción\n",
    "\n",
    "## Desarrollo\n",
    "\n",
    "### Simulando sistemas caóticos"
   ]
  },
  {
   "cell_type": "markdown",
   "metadata": {},
   "source": [
    "### Módulos y funciones necesarias"
   ]
  },
  {
   "cell_type": "code",
   "execution_count": 1,
   "metadata": {
    "collapsed": false
   },
   "outputs": [],
   "source": [
    "import numpy as np\n",
    "from scipy import integrate\n",
    "from matplotlib import pyplot as plt\n",
    "from mpl_toolkits.mplot3d import Axes3D\n",
    "from matplotlib.colors import cnames\n",
    "from matplotlib import animation\n",
    "#%load_ext memory_profiler\n",
    "#%load_ext line_profiler\n",
    "%matplotlib inline \n",
    "#no funciona esto"
   ]
  },
  {
   "cell_type": "markdown",
   "metadata": {},
   "source": [
    "### Función para visualizar resultados"
   ]
  },
  {
   "cell_type": "code",
   "execution_count": 3,
   "metadata": {
    "collapsed": true
   },
   "outputs": [],
   "source": [
    "\"\"\"\n",
    "-> x_t\n",
    "   arreglo con las posiciones (x,y,z) de las trayectorias. Este puede ser\n",
    "   de dos dimensiones (len(t), 3) para una sola trayectoria, o puede ser \n",
    "   de tres dimensiones (len(t), 3, N_trajectories) para mas de una trayectoria\n",
    "-> N_trajectories\n",
    "   numero de trayectorias a visualizar\n",
    "-> xlim,ylim,zlim\n",
    "   limites en los ejes x,y,z de la animacion\n",
    "-> rotate\n",
    "   rotar mientras anima para mejores perspectivas\n",
    "\"\"\"\n",
    "def animate_lorenz(x_t, N_trajectories, xlim=(-20,70), ylim=(-35,35), zlim=(-35,35), rotate=False):\n",
    "    #setting it to correct format\n",
    "    if x_t.ndim==2:\n",
    "        x_t = np.array([x_t])\n",
    "    elif x_t.ndim==3: \n",
    "        x_t = np.rot90(x_t).T\n",
    "    else:\n",
    "        return -1\n",
    "    #setting the number of frames\n",
    "    frames = max(x_t.shape)\n",
    "    frames /= 2\n",
    "    #set up figure & 3D axis for animation\n",
    "    fig = plt.figure()\n",
    "    ax = fig.add_axes([0, 0, 1, 1], projection='3d')\n",
    "    #ax.axis('off')\n",
    "\n",
    "    #choose a different color for each trajectory\n",
    "    colors = plt.cm.jet(np.linspace(0, 1, N_trajectories))\n",
    "\n",
    "    #set up lines and points\n",
    "    lines = sum([ax.plot([], [], [], '-', c=c)\n",
    "                 for c in colors], [])\n",
    "    pts = sum([ax.plot([], [], [], 'o', c=c)\n",
    "               for c in colors], [])\n",
    "\n",
    "    #prepare the axes limits\n",
    "    ax.set_xlim(xlim)\n",
    "    ax.set_ylim(ylim)\n",
    "    ax.set_zlim(zlim)\n",
    "\n",
    "    #set point-of-view: specified by (altitude degrees, azimuth degrees)\n",
    "    ax.view_init(30, 0)\n",
    "\n",
    "    #initialization function: plot the background of each frame\n",
    "    def init():\n",
    "        for line, pt in zip(lines, pts):\n",
    "            line.set_data([], [])\n",
    "            line.set_3d_properties([])\n",
    "\n",
    "            pt.set_data([], [])\n",
    "            pt.set_3d_properties([])\n",
    "        return lines + pts\n",
    "\n",
    "    #animation function.  This will be called sequentially with the frame number\n",
    "    def animate(i):\n",
    "        # we'll step two time-steps per frame.  This leads to nice results.\n",
    "        i = (2 * i) % x_t.shape[1]\n",
    "\n",
    "        for line, pt, xi in zip(lines, pts, x_t):\n",
    "            x, y, z = xi[:i].T\n",
    "            line.set_data(x, y)\n",
    "            line.set_3d_properties(z)\n",
    "\n",
    "            pt.set_data(x[-1:], y[-1:])\n",
    "            pt.set_3d_properties(z[-1:])\n",
    "\n",
    "        if rotate: ax.view_init(30, 0.3 * i)\n",
    "        fig.canvas.draw()\n",
    "        return lines + pts\n",
    "\n",
    "    #instantiate the animator.\n",
    "    anim = animation.FuncAnimation(fig, animate, init_func=init,\n",
    "                                   frames=frames, interval=30, blit=True, repeat=False)\n",
    "    #show it\n",
    "    ax.set_title('Lorenz Simulation')\n",
    "    ax.set_xlabel('x(t)')\n",
    "    ax.set_ylabel('y(t)')\n",
    "    ax.set_zlabel('z(t)')\n",
    "    plt.show()"
   ]
  },
  {
   "cell_type": "markdown",
   "metadata": {},
   "source": [
    "a.-"
   ]
  },
  {
   "cell_type": "code",
   "execution_count": 4,
   "metadata": {
    "collapsed": true
   },
   "outputs": [],
   "source": [
    "def euler_ode(func,y0,t,h):\n",
    "    t_size = t.size\n",
    "    solutions = np.zeros((t.size,y0.size))\n",
    "    solutions[0] = y0 \n",
    "    for i in range(1, t_size):\n",
    "        solutions[i] = solutions[i-1]+h*func(t[i-1],solutions[i-1])\n",
    "    return solutions\n",
    "\n",
    "def midpoint_ode(func,y0,t,h):\n",
    "    t_size = t.size\n",
    "    solutions = np.zeros((t.size,y0.size))\n",
    "    solutions[0, :] = y0 \n",
    "    for i in range(1, t_size):\n",
    "        current_t = t[i-1]\n",
    "        y = solutions[i-1]\n",
    "        k1 = y + h/2.0*func(current_t,y)\n",
    "        solutions[i] = y + h*func(current_t + h/2.0,k1)\n",
    "    return solutions\n",
    "\n",
    "def RK4_ode(func,y0,t,h):\n",
    "    t_size = t.size\n",
    "    solutions = np.zeros((t.size,y0.size))\n",
    "    solutions[0, :] = y0\n",
    "    for i in range(1, t_size):\n",
    "        current_t = t[i-1]\n",
    "        y = solutions[i-1]\n",
    "        k1=func(current_t,y)\n",
    "        k2=func(current_t+h/2.0,y+(h/2.0)*k1)        \n",
    "        k3=func(current_t+h/2.0,y+(h/2.0)*k2)\n",
    "        k4=func(current_t+h,y+h*k3)\n",
    "        solutions[i] = y+(h/6.0)*(k1+2*k2+2*k3+k4)\n",
    "    return solutions"
   ]
  },
  {
   "cell_type": "markdown",
   "metadata": {},
   "source": [
    "b.- Se analizaran los valores de $h$ con que el sistema podrá ser solucionado \n",
    "\n",
    "$$\n",
    "\\vec{F}(\\vec{x}) = \n",
    "\\left( \\begin{array}{c}\n",
    "\\sigma(y-x) \\\\\n",
    "x(\\rho-z)-y \\\\\n",
    "xy - \\beta z \\end{array} \\right)\n",
    "\\Longrightarrow\n",
    "\\partial\\vec{F}(\\vec{x}) =\n",
    "\\left( \\begin{array}{ccc}\n",
    "-\\sigma & \\sigma & 0\\\\\n",
    "\\rho-z & -1 & -x \\\\\n",
    "y & x & -\\beta\\end{array} \\right)\n",
    "$$\n",
    "\n",
    "Si los parametros son como se indica en el enunciado y $\\vec{x_0} = (1,1,1)$ entonces\n",
    "\n",
    "$$\n",
    "\\left|\\partial\\vec{F}(\\vec{x_0}) - \\lambda I \\right| = -\\lambda ^3-\\frac{41 \\lambda ^2}{3}+\\frac{689 \\lambda }{3}+\\frac{2020}{3}\n",
    "$$\n",
    "\n",
    "Encontrando las raices:\n",
    "$$\n",
    "\\lambda_1 = 11.4713 - 7.10543\\cdot10^{-15} i\n",
    "$$\n",
    "$$\n",
    "\\lambda_2 = -22.533 - 5.32907\\cdot10^{-15} i\n",
    "$$\n",
    "$$\n",
    "\\lambda_3 = -2.60495 + 1.24345\\cdot10^{-14} i\n",
    "$$\n",
    "\n",
    "Finalmente $h$ debe cumplir\n",
    "\n",
    "$$\n",
    "0 < h < 0.088\n",
    "$$\n",
    "$$\n",
    "0 < h < 0.768\n",
    "$$\n",
    "\n",
    "Entonces $h = 0.087$\n"
   ]
  },
  {
   "cell_type": "code",
   "execution_count": 66,
   "metadata": {
    "collapsed": false,
    "scrolled": false
   },
   "outputs": [],
   "source": [
    "def LorentzAtractor(t, xvect):\n",
    "    _x = xvect[0]\n",
    "    _y = xvect[1]\n",
    "    _z = xvect[2]\n",
    "    next_x = sigma*(_y-_x)\n",
    "    next_y = _x*(rho-_z)-_y\n",
    "    next_z = _x*_y - beta*_z\n",
    "    return np.array([next_x,next_y,next_z])\n",
    "    \n",
    "sigma = 10\n",
    "rho = 28\n",
    "beta = 8/3\n",
    "xvect0 = np.array([1.0, 1.0, 1.0])\n",
    "\n",
    "#El mejor h que funciona con todos fue encontrado por ensayo y error usando Euler.\n",
    "#Los otros dos métodos, al tener mejor región de estabilidad, funcionan con este h, aun que cada uno tiene su propia cota\n",
    "#encontrada de la misma forma. \n",
    "h = 0.024\n",
    "\n",
    "t = np.arange(0,100,h)"
   ]
  },
  {
   "cell_type": "code",
   "execution_count": 67,
   "metadata": {
    "collapsed": false,
    "scrolled": false
   },
   "outputs": [],
   "source": [
    "x_euler = euler_ode(LorentzAtractor,xvect0,t,h) #falla con h>= 0.025\n",
    "animate_lorenz(x_euler,1)"
   ]
  },
  {
   "cell_type": "code",
   "execution_count": 68,
   "metadata": {
    "collapsed": false
   },
   "outputs": [],
   "source": [
    "x_midpoint = midpoint_ode(LorentzAtractor,xvect0,t,h) #falla con h >=  0.07\n",
    "animate_lorenz(x_midpoint,1)"
   ]
  },
  {
   "cell_type": "code",
   "execution_count": 69,
   "metadata": {
    "collapsed": false
   },
   "outputs": [],
   "source": [
    "x_RK4 = RK4_ode(LorentzAtractor,xvect0,t,h) #falla con h >= 1.4\n",
    "animate_lorenz(x_RK4,1)"
   ]
  },
  {
   "cell_type": "markdown",
   "metadata": {},
   "source": [
    "c.-"
   ]
  },
  {
   "cell_type": "code",
   "execution_count": 12,
   "metadata": {
    "collapsed": false
   },
   "outputs": [
    {
     "name": "stdout",
     "output_type": "stream",
     "text": [
      "1 loops, best of 1: 1.34 s per loop\n"
     ]
    }
   ],
   "source": [
    "t = np.arange(0,1000,h)\n",
    "x_euler = euler_ode(LorentzAtractor,xvect0,t,h) \n",
    "%timeit -r 1 animate_lorenz(x_euler,1)"
   ]
  },
  {
   "cell_type": "code",
   "execution_count": 13,
   "metadata": {
    "collapsed": false
   },
   "outputs": [
    {
     "name": "stdout",
     "output_type": "stream",
     "text": [
      "The slowest run took 164.93 times longer than the fastest. This could mean that an intermediate result is being cached \n",
      "1 loops, best of 1: 577 ms per loop\n"
     ]
    }
   ],
   "source": [
    "x_midpoint = midpoint_ode(LorentzAtractor,xvect0,t,h) \n",
    "%timeit -r 1 animate_lorenz(x_midpoint,1)"
   ]
  },
  {
   "cell_type": "code",
   "execution_count": null,
   "metadata": {
    "collapsed": true
   },
   "outputs": [],
   "source": [
    "x_RK4 = RK4_ode(LorentzAtractor,xvect0,t,h) \n",
    "%timeit -r 1 animate_lorenz(x_RK4,1)"
   ]
  },
  {
   "cell_type": "markdown",
   "metadata": {},
   "source": [
    "d.- analisis para despues"
   ]
  },
  {
   "cell_type": "markdown",
   "metadata": {},
   "source": [
    "e.-"
   ]
  },
  {
   "cell_type": "code",
   "execution_count": 6,
   "metadata": {
    "collapsed": true
   },
   "outputs": [],
   "source": [
    "def parallel_euler_ode(func,y0,t,h):\n",
    "    t_size = t.size\n",
    "    num_tray = y0.shape[1]\n",
    "    solutions = np.zeros((t.size,3,num_tray))\n",
    "    solutions[0]= y0\n",
    "    for i in range(1,t_size):\n",
    "        for i_tray in range(0, num_tray):\n",
    "            prev_y = solutions[i-1][:,i_tray]\n",
    "            prev_t = t[i-1]\n",
    "            solutions[i][:,i_tray] = prev_y + h*func(prev_t,prev_y)\n",
    "    return solutions\n",
    "\n",
    "def parallel_midpoint_ode(func,y0,t,h):\n",
    "    t_size = t.size\n",
    "    num_tray = y0.shape[1]\n",
    "    solutions = np.zeros((t.size,3,num_tray))\n",
    "    solutions[0]= y0\n",
    "    for i in range(1, t_size):\n",
    "        for i_tray in range(0, num_tray):\n",
    "            prev_t = t[i-1]\n",
    "            prev_y = solutions[i-1][:,i_tray]\n",
    "            k1 = prev_y + h/2.0*func(prev_t,prev_y)\n",
    "            solutions[i][:,i_tray] = prev_y + h*func(prev_t + h/2.0,k1)\n",
    "    return solutions\n",
    "\n",
    "def parallel_RK4_ode(func,y0,t,h):\n",
    "    t_size = t.size\n",
    "    num_tray = y0.shape[1]\n",
    "    solutions = np.zeros((t.size,3,num_tray))\n",
    "    solutions[0]= y0\n",
    "    for i in range(1, t_size):\n",
    "        for i_tray in range(0, num_tray):\n",
    "            prev_t = t[i-1]\n",
    "            prev_y = solutions[i-1][:,i_tray]\n",
    "            k1=func(prev_t,prev_y)\n",
    "            k2=func(prev_t+h/2.0,prev_y+(h/2.0)*k1)        \n",
    "            k3=func(prev_t+h/2.0,prev_y+(h/2.0)*k2)\n",
    "            k4=func(prev_t+h,prev_y+h*k3)\n",
    "            solutions[i][:,i_tray]  = prev_y+(h/6.0)*(k1+2*k2+2*k3+k4)\n",
    "    return solutions"
   ]
  },
  {
   "cell_type": "code",
   "execution_count": null,
   "metadata": {
    "collapsed": false
   },
   "outputs": [],
   "source": [
    "x_0 = np.array([[1,2,3],[1,2,3],[1,2,3]])\n",
    "x = parallel_RK4_ode(LorentzAtractor,x_0,t,h) \n",
    "animate_lorenz(x,x_0.shape[1],rotate=True)"
   ]
  },
  {
   "cell_type": "markdown",
   "metadata": {
    "collapsed": true
   },
   "source": [
    "f.- "
   ]
  },
  {
   "cell_type": "code",
   "execution_count": 9,
   "metadata": {
    "collapsed": true
   },
   "outputs": [],
   "source": [
    "p1 = np.array([1,1,1])\n",
    "p2 = np.array([1,1,1-0.000009])\n",
    "x_0 = np.zeros((3,2))\n",
    "x_0[:,0] = p1\n",
    "x_0[:,1] = p2\n",
    "t = np.arange(0,50,h)"
   ]
  },
  {
   "cell_type": "code",
   "execution_count": 10,
   "metadata": {
    "collapsed": true
   },
   "outputs": [],
   "source": [
    "x = parallel_euler_ode(LorentzAtractor,x_0,t,h) \n",
    "animate_lorenz(x,x_0.shape[1],rotate=True)"
   ]
  },
  {
   "cell_type": "code",
   "execution_count": 25,
   "metadata": {
    "collapsed": true
   },
   "outputs": [],
   "source": [
    "x = parallel_midpoint_ode(LorentzAtractor,x_0,t,h) \n",
    "animate_lorenz(x,x_0.shape[1],rotate=True)"
   ]
  },
  {
   "cell_type": "code",
   "execution_count": 23,
   "metadata": {
    "collapsed": true
   },
   "outputs": [],
   "source": [
    "x = parallel_RK4_ode(LorentzAtractor,x_0,t,h) \n",
    "animate_lorenz(x,x_0.shape[1],rotate=True)"
   ]
  },
  {
   "cell_type": "markdown",
   "metadata": {},
   "source": [
    "Se usaron puntos con iguales coordenadas en el plano XY, pero con una diferencia de 0.000009 en el eje Z. Como podemos ver en las animaciones, en las primeras posiciones ambos puntos parecen estar juntos, pero la verdad es que hay una distancia imperceptible. Además ambos puntos se mueven de la misma forma en el espacio. Luego de unas iteraciones, la distancia se vuelve clara y los movimientos dejan de ser iguales, cada punto toma un rumbo distinto. Esto demuestra claramente el comportamiento de sistemas caóticos, ya que una pequeña variación en las condiciones iniciales causa soluciones completamente distintas en el tiempo. El método de Euler genera soluciones que comienzan a diverger a los 35 segundos de simulación aproximadametne, mientras que Midpoint comienza a los 50 y RK4 demora 65. Esto  se debe a la presición con las que calculan cada solución, siendo RK4 el más preciso."
   ]
  },
  {
   "cell_type": "markdown",
   "metadata": {},
   "source": [
    "g.-"
   ]
  },
  {
   "cell_type": "code",
   "execution_count": 15,
   "metadata": {
    "collapsed": false
   },
   "outputs": [],
   "source": [
    "r = 0.000009\n",
    "x_0 = np.zeros((3,20))\n",
    "for i in range(20):\n",
    "    x_0[:,i] = np.array([1,1,1+r/19*i])\n",
    "x = parallel_RK4_ode(LorentzAtractor,x_0,t,h) \n",
    "animate_lorenz(x,x_0.shape[1],rotate=True)"
   ]
  },
  {
   "cell_type": "markdown",
   "metadata": {},
   "source": [
    "Todos los puntos tienen coordenadas iguales en plano XY, y la coordenada z se reparte entre los 20 puntos de manera equiespaciada entre 1 y 1.000009. A los 80 segundos de simulación aproximadamente se ve la divergencia máxima de todos los puntos. Cada uno toma una ruta distinta, y jamás vuelven a alinearse como en un principio, mostrando un comportamiento caótico."
   ]
  },
  {
   "cell_type": "markdown",
   "metadata": {
    "collapsed": true
   },
   "source": [
    "### BVP de orden superior\n",
    "\n",
    "a) Definiremos las siguientes variables:\n",
    "\n",
    "$$ \\begin{matrix}\n",
    "   y_1 = y(t) \\\\\n",
    "   y_2 = y'(t) \\\\\n",
    "   y_3 = y''(t) \\\\\n",
    "   y_4 = y^{(3)}(t) \\\\\n",
    "   \\end{matrix} $$\n",
    "\n",
    "En base a estas nuevas variables, podemos expresar el BVP anterior en el siguiente sistema de IVP:\n",
    "\n",
    "$$ \\begin{align}\n",
    "   y_1' &= y_2 \\\\\n",
    "   y_2' &= y_3 \\\\\n",
    "   y_3' &= y_4 \\\\\n",
    "   y_4' &= -y_1 \\\\\n",
    "   y_1(0) &= 0 \\\\\n",
    "   y_2(0) &= \\alpha \\\\\n",
    "   y_3(0) &= \\beta \\\\\n",
    "   y_4(0) &= \\gamma\n",
    "   \\end{align} $$\n",
    "   \n",
    "En donde $ \\alpha $, $ \\beta $, $ \\gamma $ son constantes auxiliares que representan la condición inicial de las variables $ y_2 $, $ y_3 $, $ y_4 $.\n",
    "\n",
    "b) Partiendo de la aproximación de $ y''(x) = \\frac{y(x+h) - 2y(x) + y(x-h)}{h^2} + O(h^2)$, aproximaremos la cuarta derivada. Usando la misma técnica de aproximación:\n",
    "\n",
    "* Tercera derivada:\n",
    "\n",
    "$$ \\begin{align}\n",
    "   y'''(x) = \\frac{y''(x) - y''(x - h)}{h} \\implies y'''(x) &= \\frac{\\frac{y(x+h) - 2y(x) + y(x-h)}{h^2} - \\frac{y(x) - 2y(x-h) + y(x-2h)}{h^2}}{h} \\\\ \n",
    "   &= \\frac{y(x+h)-3y(x)+3y(x-h)-y(x-2h)}{h^3}\n",
    "   \\end{align} $$\n",
    "   \n",
    "* Cuarta derivada:\n",
    "\n",
    "$$ \\begin{align}\n",
    "   y^{(4)}(x) = \\frac{y'''(x) - y'''(x - h)}{h} \\implies y^{(4)}(x) &= \\frac{\\frac{y(x+h) - 3y(x) + 3y(x-h) - y(x-2h)}{2h^3} - \\frac{y(x) - 3y(x-h) + 3y(x-2h) - y(x-3h)}{h^3}}{h} \\\\ \n",
    "   &= \\frac{y(x+h) - 4y(x) + 6y(x-h) - 4y(x-2h) + y(x-3h)}{h^4}\n",
    "   \\end{align} $$\n",
    "\n",
    "Para discretizar, sea $ x_i = i \\cdot \\Delta x $, con $ \\Delta x = \\frac{1}{N} $ el largo de los intervalos escogidos y $ N $ el número de puntos; y $ u_i = y(x_i) $ la discretización del dominio de la función, con $ x_i \\in [0,2] $. Para el BVP, la discretización tiene la siguiente forma:\n",
    "\n",
    "\n",
    "$$ \\begin{align}\n",
    "   \\frac{u_{i+1} - 4u_{i} + 6u_{i-1} - 4u_{i-2} + u_{i-3}}{h^4} &= -u_i \\\\\n",
    "   \\frac{1}{h^4}u_{i+1} - \\left(\\frac{4}{h^4} - 1 \\right)u_i + \\frac{6}{h^4}u_{i-1} - \\frac{4}{h^4}u_{i-2} + \\frac{1}{h^4}u_{i-3} &= 0 \\qquad \\forall i \\in 0:N\n",
    "   \\end{align} $$\n",
    "<br>\n",
    "<br>\n",
    "c) Asumiendo que el dominio del BVP es $ [0,2] $, la función fue implementada de la siguiente forma:"
   ]
  },
  {
   "cell_type": "code",
   "execution_count": 120,
   "metadata": {
    "collapsed": false
   },
   "outputs": [],
   "source": [
    "def solve_BVPIV(N):\n",
    "    xi = np.linspace(0,2,N)\n",
    "    size = np.size(xi)\n",
    "    delta = xi[1] - xi[0]\n",
    "    \n",
    "    F = np.zeros([size, size])\n",
    "    F[0,0] = 1.\n",
    "    F[size-1,size-1] = 1.\n",
    "    F[size-2,size-2:] = np.array([-1./delta, 1./delta])\n",
    "    F[size-3,size-3:] = np.array([1./delta**2, -2./delta**2, 1./delta**2])\n",
    "    for i in range(1,size-3):\n",
    "        F[size - 3 - i, size-4-i:size+1-i] = np.array([1./delta**4, -4./delta**4, 6./delta**4, -4./delta**4 + 1., 1./delta**4])\n",
    "    \n",
    "    b = np.zeros(size)\n",
    "    b[size-3:] = np.array([1.,-1.,1.])\n",
    "    \n",
    "    return np.linalg.solve(F,b)"
   ]
  },
  {
   "cell_type": "markdown",
   "metadata": {},
   "source": [
    "d) Los gráficos son los siguientes:"
   ]
  },
  {
   "cell_type": "code",
   "execution_count": 121,
   "metadata": {
    "collapsed": false
   },
   "outputs": [
    {
     "data": {
      "image/png": "[encoded data removed]",
      "text/plain": [
       "<matplotlib.figure.Figure at 0x21d0c5c0>"
      ]
     },
     "metadata": {},
     "output_type": "display_data"
    },
    {
     "data": {
      "image/png": "[encoded data removed]",
      "text/plain": [
       "<matplotlib.figure.Figure at 0x96ebcf8>"
      ]
     },
     "metadata": {},
     "output_type": "display_data"
    },
    {
     "data": {
      "image/png": "[encoded data removed]",
      "text/plain": [
       "<matplotlib.figure.Figure at 0x12788cc0>"
      ]
     },
     "metadata": {},
     "output_type": "display_data"
    },
    {
     "data": {
      "image/png": "[encoded data removed]",
      "text/plain": [
       "<matplotlib.figure.Figure at 0x1277ccc0>"
      ]
     },
     "metadata": {},
     "output_type": "display_data"
    },
    {
     "data": {
      "image/png": "[encoded data removed]",
      "text/plain": [
       "<matplotlib.figure.Figure at 0x120e4cf8>"
      ]
     },
     "metadata": {},
     "output_type": "display_data"
    }
   ],
   "source": [
    "N = (20, 40, 160, 960, 7680)\n",
    "\n",
    "for i in N:\n",
    "    plt.plot(np.linspace(0,2,i), solve_BVPIV(i), 'o', label=\"N = \" + str(i))\n",
    "    plt.title(\"Solucion BVP (4) con N = \" + str(i))\n",
    "    plt.ylabel(\"y(x)\")\n",
    "    plt.xlabel(\"x\")\n",
    "    plt.show()"
   ]
  },
  {
   "cell_type": "markdown",
   "metadata": {
    "collapsed": true
   },
   "source": [
    "Como se puede ver, a medida que aumentamos h, podemos aumentar la precisión de la solución $ y(x) $, lo cuál se demuestra en los gráficos de arriba, en donde la función se va por sobre los límites del gráfico con valores que pueden superar un poco el $ 2 $. A medida que aumentamos $ N $, además de poder tener una mejor visión de como se comporta la función, se nota que los valores ya no van por sobre $ 2 $, por lo que nos aseguramos que la función encontrada es más precisa.\n",
    "\n",
    "## Conclusión\n",
    "\n",
    "## Referencias"
   ]
  },
  {
   "cell_type": "code",
   "execution_count": null,
   "metadata": {
    "collapsed": true
   },
   "outputs": [],
   "source": []
  }
 ],
 "metadata": {
  "kernelspec": {
   "display_name": "Python 2",
   "language": "python",
   "name": "python2"
  },
  "language_info": {
   "codemirror_mode": {
    "name": "ipython",
    "version": 2
   },
   "file_extension": ".py",
   "mimetype": "text/x-python",
   "name": "python",
   "nbconvert_exporter": "python",
   "pygments_lexer": "ipython2",
   "version": "2.7.10"
  }
 },
 "nbformat": 4,
 "nbformat_minor": 0
}

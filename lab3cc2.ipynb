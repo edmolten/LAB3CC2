{
 "cells": [
  {
   "cell_type": "markdown",
   "metadata": {},
   "source": [
    "<h1 align=\"center\"> Computación Cientifica - Laboratorio 3: Simulando Númericamente Sistemas Dinámicos </h1>\n",
    "<br>\n",
    "<br>\n",
    "** Autores **:\n",
    "+ Yerson Escobar - 201273084-8 \n",
    "+ Eduardo Ramírez - 201103031-1\n",
    "\n",
    "\n",
    "## Introducción\n",
    "\n",
    "## Desarrollo\n",
    "\n",
    "### Simulando sistemas caóticos"
   ]
  },
  {
   "cell_type": "code",
   "execution_count": null,
   "metadata": {
    "collapsed": true
   },
   "outputs": [],
   "source": []
  }
 ],
 "metadata": {
  "kernelspec": {
   "display_name": "Python 2",
   "language": "python",
   "name": "python2"
  },
  "language_info": {
   "codemirror_mode": {
    "name": "ipython",
    "version": 2
   },
   "file_extension": ".py",
   "mimetype": "text/x-python",
   "name": "python",
   "nbconvert_exporter": "python",
   "pygments_lexer": "ipython2",
   "version": "2.7.10"
  }
 },
 "nbformat": 4,
 "nbformat_minor": 0
}

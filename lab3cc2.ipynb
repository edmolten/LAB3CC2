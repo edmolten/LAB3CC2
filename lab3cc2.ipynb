{
 "cells": [
  {
   "cell_type": "markdown",
   "metadata": {},
   "source": [
    "<h1 align=\"center\"> Computación Cientifica - Laboratorio 3: Simulando Númericamente Sistemas Dinámicos </h1>\n",
    "<br>\n",
    "<br>\n",
    "** Autores **:\n",
    "+ Yerson Escobar - 201273084-8 \n",
    "+ Eduardo Ramírez - 201103031-1\n",
    "\n",
    "\n",
    "## Introducción\n",
    "\n",
    "## Desarrollo\n",
    "\n",
    "### Simulando sistemas caóticos"
   ]
  },
  {
   "cell_type": "markdown",
   "metadata": {},
   "source": [
    "### Módulos y funciones necesarias"
   ]
  },
  {
   "cell_type": "code",
   "execution_count": 51,
   "metadata": {
    "collapsed": true
   },
   "outputs": [],
   "source": [
    "import numpy as np\n",
    "from scipy import integrate\n",
    "from matplotlib import pyplot as plt\n",
    "from mpl_toolkits.mplot3d import Axes3D\n",
    "from matplotlib.colors import cnames\n",
    "from matplotlib import animation"
   ]
  },
  {
   "cell_type": "markdown",
   "metadata": {},
   "source": [
    "### Función para visualizar resultados"
   ]
  },
  {
   "cell_type": "code",
   "execution_count": 52,
   "metadata": {
    "collapsed": true
   },
   "outputs": [],
   "source": [
    "\"\"\"\n",
    "-> x_t\n",
    "   arreglo con las posiciones (x,y,z) de las trayectorias. Este puede ser\n",
    "   de dos dimensiones (len(t), 3) para una sola trayectoria, o puede ser \n",
    "   de tres dimensiones (len(t), 3, N_trajectories) para mas de una trayectoria\n",
    "-> N_trajectories\n",
    "   numero de trayectorias a visualizar\n",
    "-> xlim,ylim,zlim\n",
    "   limites en los ejes x,y,z de la animacion\n",
    "-> rotate\n",
    "   rotar mientras anima para mejores perspectivas\n",
    "\"\"\"\n",
    "def animate_lorenz(x_t, N_trajectories, xlim=(-20,70), ylim=(-35,35), zlim=(-35,35), rotate=False):\n",
    "    #setting it to correct format\n",
    "    if x_t.ndim==2:\n",
    "        x_t = np.array([x_t])\n",
    "    elif x_t.ndim==3: \n",
    "        x_t = np.rot90(x_t).T\n",
    "    else:\n",
    "        return -1\n",
    "    #setting the number of frames\n",
    "    frames = max(x_t.shape)\n",
    "    frames /= 2\n",
    "    #set up figure & 3D axis for animation\n",
    "    fig = plt.figure()\n",
    "    ax = fig.add_axes([0, 0, 1, 1], projection='3d')\n",
    "    #ax.axis('off')\n",
    "\n",
    "    #choose a different color for each trajectory\n",
    "    colors = plt.cm.jet(np.linspace(0, 1, N_trajectories))\n",
    "\n",
    "    #set up lines and points\n",
    "    lines = sum([ax.plot([], [], [], '-', c=c)\n",
    "                 for c in colors], [])\n",
    "    pts = sum([ax.plot([], [], [], 'o', c=c)\n",
    "               for c in colors], [])\n",
    "\n",
    "    #prepare the axes limits\n",
    "    ax.set_xlim(xlim)\n",
    "    ax.set_ylim(ylim)\n",
    "    ax.set_zlim(zlim)\n",
    "\n",
    "    #set point-of-view: specified by (altitude degrees, azimuth degrees)\n",
    "    ax.view_init(30, 0)\n",
    "\n",
    "    #initialization function: plot the background of each frame\n",
    "    def init():\n",
    "        for line, pt in zip(lines, pts):\n",
    "            line.set_data([], [])\n",
    "            line.set_3d_properties([])\n",
    "\n",
    "            pt.set_data([], [])\n",
    "            pt.set_3d_properties([])\n",
    "        return lines + pts\n",
    "\n",
    "    #animation function.  This will be called sequentially with the frame number\n",
    "    def animate(i):\n",
    "        # we'll step two time-steps per frame.  This leads to nice results.\n",
    "        i = (2 * i) % x_t.shape[1]\n",
    "\n",
    "        for line, pt, xi in zip(lines, pts, x_t):\n",
    "            x, y, z = xi[:i].T\n",
    "            line.set_data(x, y)\n",
    "            line.set_3d_properties(z)\n",
    "\n",
    "            pt.set_data(x[-1:], y[-1:])\n",
    "            pt.set_3d_properties(z[-1:])\n",
    "\n",
    "        if rotate: ax.view_init(30, 0.3 * i)\n",
    "        fig.canvas.draw()\n",
    "        return lines + pts\n",
    "\n",
    "    #instantiate the animator.\n",
    "    anim = animation.FuncAnimation(fig, animate, init_func=init,\n",
    "                                   frames=frames, interval=30, blit=True, repeat=False)\n",
    "    #show it\n",
    "    ax.set_title('Lorenz Simulation')\n",
    "    ax.set_xlabel('x(t)')\n",
    "    ax.set_ylabel('y(t)')\n",
    "    ax.set_zlabel('z(t)')\n",
    "    plt.show()"
   ]
  },
  {
   "cell_type": "code",
   "execution_count": 45,
   "metadata": {
    "collapsed": true
   },
   "outputs": [],
   "source": [
    "def euler_ode(func,y0,t,h):\n",
    "    ''' y0 es 1 x n'''\n",
    "    t_size = t.size\n",
    "    solutions = np.zeros((t.size,y0.size))\n",
    "    solutions[0] = y0 \n",
    "    for i in range(1, t_size):\n",
    "        solutions[i] = solutions[i-1]+h*func(t[i-1],solutions[i-1])\n",
    "    return solutions\n",
    "\n",
    "def midpoint_ode(func,y0,t,h):\n",
    "    t_size = t.size\n",
    "    solutions = np.zeros((t.size,y0.size))\n",
    "    solutions[0, :] = y0 \n",
    "    for i in range(1, t_size):\n",
    "        current_t = t[i-1]\n",
    "        y = solutions[i-1]\n",
    "        k1 = y + h/2.0*func(current_t,y)\n",
    "        solutions[i] = y + h*func(current_t + h/2.0,k1)\n",
    "    return solutions\n",
    "\n",
    "def RK4_ode(func,y0,t,h):\n",
    "    t_size = t.size\n",
    "    solutions = np.zeros((t.size,y0.size))\n",
    "    solutions[0, :] = y0\n",
    "    for i in range(1, t_size):\n",
    "        current_t = t[i-1]\n",
    "        y = solutions[i-1]\n",
    "        \n",
    "        k1=func(current_t,y)\n",
    "        k2=func(current_t+h/2.0,y+(h/2.0)*k1)\n",
    "   #     k2=f(t+h/2.0,y+(h/2.0)*k1)\n",
    "        \n",
    "        k3=func(current_t+h/2.0,y+(h/2.0)*k2)\n",
    "   #     k3=f(t+h/2.0,y+(h/2.0)*k2)\n",
    "        \n",
    "        k4=func(current_t+h,y+h*k3)\n",
    "        solutions[i] = y+(h/6.0)*(k1+2*k2+2*k3+k4)\n",
    "  #  k4=f(t+h,y+h*k3)\n",
    "    return solutions"
   ]
  },
  {
   "cell_type": "code",
   "execution_count": 49,
   "metadata": {
    "collapsed": false
   },
   "outputs": [
    {
     "name": "stdout",
     "output_type": "stream",
     "text": [
      "[ 0.    0.25  0.5   0.75  1.  ]\n",
      "[[ 1.        ]\n",
      " [ 1.        ]\n",
      " [ 1.053125  ]\n",
      " [ 1.1834375 ]\n",
      " [ 1.44532813]]\n",
      "[[ 1.        ]\n",
      " [ 1.0202    ]\n",
      " [ 1.10208372]\n",
      " [ 1.28564627]\n",
      " [ 1.65059501]]\n",
      "[[ 1.        ]\n",
      " [ 1.02060335]\n",
      " [ 1.1041513 ]\n",
      " [ 1.2917912 ]\n",
      " [ 1.66600241]]\n"
     ]
    }
   ],
   "source": [
    "def F(t,y):\n",
    "    _y1 = y[0]\n",
    "    y1 = _y1**2\n",
    "    return np.array([t*_y1+t**3])\n",
    "\n",
    "y0 = np.array([1.0])\n",
    "h = 0.2\n",
    "t = np.linspace(0,5*h,5)\n",
    "print t\n",
    "print euler_ode(F,y0,t,h)\n",
    "print midpoint_ode(F,y0,t,h)\n",
    "print RK4_ode(F,y0,t,h)"
   ]
  },
  {
   "cell_type": "code",
   "execution_count": null,
   "metadata": {
    "collapsed": true
   },
   "outputs": [],
   "source": []
  },
  {
   "cell_type": "code",
   "execution_count": null,
   "metadata": {
    "collapsed": true
   },
   "outputs": [],
   "source": []
  }
 ],
 "metadata": {
  "kernelspec": {
   "display_name": "Python 2",
   "language": "python",
   "name": "python2"
  },
  "language_info": {
   "codemirror_mode": {
    "name": "ipython",
    "version": 2
   },
   "file_extension": ".py",
   "mimetype": "text/x-python",
   "name": "python",
   "nbconvert_exporter": "python",
   "pygments_lexer": "ipython2",
   "version": "2.7.10"
  }
 },
 "nbformat": 4,
 "nbformat_minor": 0
}
